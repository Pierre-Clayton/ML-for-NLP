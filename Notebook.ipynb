{
 "cells": [
  {
   "cell_type": "markdown",
   "metadata": {},
   "source": [
    "# Project Report: Evaluating GLiNER on French NER (Expanded Experiments)\n",
    "\n",
    "**Goal:** Evaluate the pre-trained GLiNER models on the French NER dataset `CATIE-AQ/frenchNER_4entities`, performing experiments analogous to those in the original GLiNER paper where feasible.\n",
    "\n",
    "**Experiments Covered (Adapted to French Context):**\n",
    "1.  **Dataset Analysis:** Load, analyze, and visualize the `CATIE-AQ/frenchNER_4entities` dataset.\n",
    "2.  **Zero-Shot Evaluation (Analogous to Tables 1-3):** Evaluate multiple *pre-trained* GLiNER models (English-base, English-large, Multilingual) on the French dataset to assess out-of-the-box performance and cross-lingual transfer.\n",
    "3.  **Supervised Fine-tuning (Discussion, Analogous to Table 4):** Discuss the process and expected outcomes of fine-tuning GLiNER on the French dataset (implementation omitted due to complexity).\n",
    "4.  **Effect of Pre-training/Fine-tuning (Discussion, Analogous to Figure 5):** Discuss how fine-tuning would likely improve over zero-shot performance, based on the paper's findings.\n",
    "5.  **Effect of Different Backbones / Ablations (Discussion, Analogous to Figure 4 & Section 5.3):** Acknowledge limitations in replicating these experiments without retraining capabilities.\n",
    "6.  **Analysis & Conclusion:** Summarize findings for French NER using GLiNER."
   ]
  },
  {
   "cell_type": "markdown",
   "metadata": {},
   "source": [
    "## 1. Setup and Imports"
   ]
  },
  {
   "cell_type": "code",
   "execution_count": 1,
   "metadata": {},
   "outputs": [
    {
     "name": "stderr",
     "output_type": "stream",
     "text": [
      "/Users/pierre/Documents/ENSAE/ML-for-NLP/venv/lib/python3.11/site-packages/tqdm/auto.py:21: TqdmWarning: IProgress not found. Please update jupyter and ipywidgets. See https://ipywidgets.readthedocs.io/en/stable/user_install.html\n",
      "  from .autonotebook import tqdm as notebook_tqdm\n"
     ]
    }
   ],
   "source": [
    "import pandas as pd\n",
    "import matplotlib.pyplot as plt\n",
    "import numpy as np\n",
    "from datasets import load_dataset, DatasetDict, Dataset\n",
    "from collections import Counter\n",
    "import gliner \n",
    "from gliner import GLiNER\n",
    "from tqdm import tqdm\n",
    "import warnings\n",
    "import gc\n",
    "import torch # Ensure torch is available\n",
    "\n",
    "warnings.filterwarnings(\"ignore\")"
   ]
  },
  {
   "cell_type": "markdown",
   "metadata": {},
   "source": [
    "## 2. Load and Analyze French NER Dataset"
   ]
  },
  {
   "cell_type": "code",
   "execution_count": 2,
   "metadata": {},
   "outputs": [
    {
     "name": "stdout",
     "output_type": "stream",
     "text": [
      "Dataset loaded:\n",
      "DatasetDict({\n",
      "    train: Dataset({\n",
      "        features: ['tokens', 'ner_tags', 'dataset'],\n",
      "        num_rows: 328757\n",
      "    })\n",
      "    validation: Dataset({\n",
      "        features: ['tokens', 'ner_tags', 'dataset'],\n",
      "        num_rows: 24131\n",
      "    })\n",
      "    test: Dataset({\n",
      "        features: ['tokens', 'ner_tags', 'dataset'],\n",
      "        num_rows: 31885\n",
      "    })\n",
      "})\n",
      "\n",
      "Dataset split into train/test:\n",
      "DatasetDict({\n",
      "    train: Dataset({\n",
      "        features: ['tokens', 'ner_tags', 'dataset'],\n",
      "        num_rows: 263005\n",
      "    })\n",
      "    test: Dataset({\n",
      "        features: ['tokens', 'ner_tags', 'dataset'],\n",
      "        num_rows: 65752\n",
      "    })\n",
      "})\n",
      "\n",
      "Dataset Label Names: ['O', 'PER', 'ORG', 'LOC', 'MISC']\n",
      "Entity Types in Dataset (excluding O): ['PER', 'ORG', 'LOC', 'MISC']\n"
     ]
    }
   ],
   "source": [
    "# Load the dataset\n",
    "full_dataset = load_dataset(\"CATIE-AQ/frenchNER_4entities\")\n",
    "print(\"Dataset loaded:\")\n",
    "print(full_dataset)\n",
    "\n",
    "# --- Data Splitting (Optional but Recommended for Proper Eval) ---\n",
    "# The dataset only has a 'train' split. Let's create train/test splits.\n",
    "# Shuffling before splitting is good practice.\n",
    "shuffled_dataset = full_dataset['train'].shuffle(seed=42)\n",
    "\n",
    "# Split: 80% train, 20% test (adjust ratio if needed)\n",
    "split_dataset = shuffled_dataset.train_test_split(test_size=0.2, seed=42)\n",
    "\n",
    "dataset_splits = DatasetDict({\n",
    "    'train': split_dataset['train'],\n",
    "    'test': split_dataset['test']\n",
    "})\n",
    "print(\"\\nDataset split into train/test:\")\n",
    "print(dataset_splits)\n",
    "\n",
    "# Define label names - try getting from features, else use default\n",
    "try:\n",
    "    # Access features from the original dataset structure if needed\n",
    "    label_names = full_dataset['train'].features['ner_tags'].feature.names\n",
    "except AttributeError:\n",
    "    label_names = [\"O\", \"PER\", \"ORG\", \"LOC\", \"MISC\"]\n",
    "print(\"\\nDataset Label Names:\", label_names)\n",
    "\n",
    "# Get the entity types we care about (excluding 'O')\n",
    "entity_types_dataset = [label for label in label_names if label != \"O\"]\n",
    "print(\"Entity Types in Dataset (excluding O):\", entity_types_dataset)"
   ]
  },
  {
   "cell_type": "markdown",
   "metadata": {},
   "source": [
    "### 2.1 Helper Function: Extract Entities from Annotations"
   ]
  },
  {
   "cell_type": "code",
   "execution_count": 3,
   "metadata": {},
   "outputs": [],
   "source": [
    "def extract_entities_from_tags(tokens, ner_tags, label_map):\n",
    "    \"\"\"\n",
    "    Extracts entities (text, label, start, end) from token-level NER tags.\n",
    "    Args:\n",
    "        tokens (list): List of tokens in the sentence.\n",
    "        ner_tags (list): List of corresponding NER tag IDs.\n",
    "        label_map (list): List mapping tag IDs to label names (e.g., [\"O\", \"PER\", ...]).\n",
    "    Returns:\n",
    "        list: A list of dictionaries, each representing an entity.\n",
    "              {'text': str, 'label': str, 'start': int, 'end': int}\n",
    "    \"\"\"\n",
    "    entities = []\n",
    "    current_entity = None\n",
    "    for i, (token, tag_id) in enumerate(zip(tokens, ner_tags)):\n",
    "        label = label_map[tag_id]\n",
    "        if label == \"O\":\n",
    "            if current_entity is not None:\n",
    "                current_entity[\"text\"] = \" \".join(current_entity[\"tokens\"])\n",
    "                del current_entity[\"tokens\"]\n",
    "                entities.append(current_entity)\n",
    "                current_entity = None\n",
    "        else:\n",
    "            entity_type = label\n",
    "            if current_entity is None or current_entity[\"label\"] != entity_type:\n",
    "                if current_entity is not None:\n",
    "                    current_entity[\"text\"] = \" \".join(current_entity[\"tokens\"])\n",
    "                    del current_entity[\"tokens\"]\n",
    "                    entities.append(current_entity)\n",
    "                current_entity = {\"label\": entity_type, \"start\": i, \"end\": i, \"tokens\": [token]}\n",
    "            else:\n",
    "                current_entity[\"tokens\"].append(token)\n",
    "                current_entity[\"end\"] = i\n",
    "    if current_entity is not None:\n",
    "        current_entity[\"text\"] = \" \".join(current_entity[\"tokens\"])\n",
    "        del current_entity[\"tokens\"]\n",
    "        entities.append(current_entity)\n",
    "    return entities"
   ]
  },
  {
   "cell_type": "markdown",
   "metadata": {},
   "source": [
    "### 2.2 Data Statistics Calculation (on Training Split)"
   ]
  },
  {
   "cell_type": "code",
   "execution_count": 4,
   "metadata": {},
   "outputs": [
    {
     "name": "stdout",
     "output_type": "stream",
     "text": [
      "Analyzing training split statistics...\n"
     ]
    },
    {
     "name": "stderr",
     "output_type": "stream",
     "text": [
      "100%|██████████| 263005/263005 [00:11<00:00, 23437.37it/s]\n"
     ]
    },
    {
     "name": "stdout",
     "output_type": "stream",
     "text": [
      "\n",
      "Average sentence length (tokens) in train split: 27.57\n",
      "\n",
      "Distribution of entity types in train split:\n",
      "- LOC: 151163\n",
      "- MISC: 208469\n",
      "- ORG: 42031\n",
      "- PER: 135630\n",
      "\n",
      "Top 10 most frequent entity texts in train split:\n",
      "- \".\": 24246\n",
      "- \"France\": 2691\n",
      "- \"?\": 2129\n",
      "- \"amphibiens\": 1824\n",
      "- \"États-Unis\": 1646\n",
      "- \"Paris\": 1550\n",
      "- \"Female\": 1474\n",
      "- \"Male\": 1442\n",
      "- \"Europe\": 1280\n",
      "- \"États - Unis\": 1269\n"
     ]
    }
   ],
   "source": [
    "all_true_entities_train = []\n",
    "sentence_lengths_train = []\n",
    "\n",
    "print(\"Analyzing training split statistics...\")\n",
    "for example in tqdm(dataset_splits['train']):\n",
    "    tokens = example['tokens']\n",
    "    ner_tags = example['ner_tags']\n",
    "    sentence_lengths_train.append(len(tokens))\n",
    "    true_entities = extract_entities_from_tags(tokens, ner_tags, label_names)\n",
    "    all_true_entities_train.extend(true_entities)\n",
    "\n",
    "avg_sentence_length_train = np.mean(sentence_lengths_train) if sentence_lengths_train else 0\n",
    "print(f\"\\nAverage sentence length (tokens) in train split: {avg_sentence_length_train:.2f}\")\n",
    "\n",
    "entity_label_counts_train = Counter([entity[\"label\"] for entity in all_true_entities_train])\n",
    "print(\"\\nDistribution of entity types in train split:\")\n",
    "for label, count in sorted(entity_label_counts_train.items()):\n",
    "    print(f\"- {label}: {count}\")\n",
    "\n",
    "entity_text_counts_train = Counter([entity[\"text\"].strip() for entity in all_true_entities_train if entity[\"text\"].strip()])\n",
    "print(\"\\nTop 10 most frequent entity texts in train split:\")\n",
    "for text, count in entity_text_counts_train.most_common(10):\n",
    "    print(f'- \"{text}\": {count}')"
   ]
  },
  {
   "cell_type": "markdown",
   "metadata": {},
   "source": [
    "### 2.3 Data Visualization (on Training Split)"
   ]
  },
  {
   "cell_type": "code",
   "execution_count": 5,
   "metadata": {},
   "outputs": [
    {
     "data": {
      "image/png": "[encoded data removed]",
      "text/plain": [
       "<Figure size 1000x500 with 1 Axes>"
      ]
     },
     "metadata": {},
     "output_type": "display_data"
    },
    {
     "data": {
      "image/png": "[encoded data removed]",
      "text/plain": [
       "<Figure size 800x500 with 1 Axes>"
      ]
     },
     "metadata": {},
     "output_type": "display_data"
    }
   ],
   "source": [
    "# Plot: Histogram of sentence lengths\n",
    "plt.figure(figsize=(10, 5))\n",
    "plt.hist(sentence_lengths_train, bins=50, color='lightblue', edgecolor='black')\n",
    "plt.title(\"Distribution of Sentence Lengths (Tokens) in Train Split\")\n",
    "plt.xlabel(\"Number of Tokens\")\n",
    "plt.ylabel(\"Number of Sentences\")\n",
    "plt.grid(axis='y', alpha=0.75)\n",
    "plt.savefig(\"sentence_length_distribution.png\") # Save for report\n",
    "plt.show()\n",
    "\n",
    "# Plot: Bar chart of entity type distribution\n",
    "plt.figure(figsize=(8, 5))\n",
    "labels, values = zip(*sorted(entity_label_counts_train.items()))\n",
    "plt.bar(labels, values, color='salmon', edgecolor='black')\n",
    "plt.title(\"Distribution of Entity Types in Train Split\")\n",
    "plt.xlabel(\"Entity Type\")\n",
    "plt.ylabel(\"Number of Occurrences\")\n",
    "plt.grid(axis='y', alpha=0.75)\n",
    "plt.savefig(\"entity_type_distribution.png\") # Save for report\n",
    "plt.show()"
   ]
  },
  {
   "cell_type": "markdown",
   "metadata": {},
   "source": [
    "## 3. Evaluation Function Definition"
   ]
  },
  {
   "cell_type": "code",
   "execution_count": 6,
   "metadata": {},
   "outputs": [],
   "source": [
    "# Define mapping from dataset labels to labels expected/used by GLiNER\n",
    "label_mapping = {\n",
    "    \"PER\": \"person\",\n",
    "    \"ORG\": \"organization\",\n",
    "    \"LOC\": \"location\",\n",
    "    \"MISC\": \"misc\"\n",
    "}\n",
    "\n",
    "# Labels to ask GLiNER to predict\n",
    "labels_for_gliner = list(label_mapping.values())\n",
    "\n",
    "def evaluate_prediction(true_entities, pred_entities, label_map):\n",
    "    \"\"\"\n",
    "    Compares true and predicted entities for a single example.\n",
    "    Returns: tuple: (num_predicted, num_true, num_correct)\n",
    "    \"\"\"\n",
    "    true_set = set()\n",
    "    for ent in true_entities:\n",
    "        mapped_label = label_map.get(ent[\"label\"])\n",
    "        if mapped_label:\n",
    "            true_set.add((ent[\"text\"].strip().lower(), mapped_label))\n",
    "\n",
    "    pred_set = set()\n",
    "    for ent in pred_entities:\n",
    "        pred_set.add((ent[\"text\"].strip().lower(), ent[\"label\"].strip().lower()))\n",
    "\n",
    "    correct_predictions = true_set.intersection(pred_set)\n",
    "    return len(pred_set), len(true_set), len(correct_predictions)\n",
    "\n",
    "def compute_metrics(total_pred, total_true, total_correct):\n",
    "    \"\"\"Computes precision, recall, and F1-score from total counts.\"\"\"    \n",
    "    precision = total_correct / total_pred if total_pred > 0 else 0\n",
    "    recall = total_correct / total_true if total_true > 0 else 0\n",
    "    f1 = 2 * precision * recall / (precision + recall) if (precision + recall) > 0 else 0\n",
    "    return precision, recall, f1\n",
    "\n",
    "def evaluate_per_class(true_entities, pred_entities, label_map, per_class_stats):\n",
    "    \"\"\"\n",
    "    Updates counts for per-class evaluation for a single example.\n",
    "    Labels in per_class_stats are the GLiNER labels (e.g., 'person').\n",
    "    \"\"\"\n",
    "    true_list = []\n",
    "    for ent in true_entities:\n",
    "        mapped_label = label_map.get(ent[\"label\"])\n",
    "        if mapped_label:\n",
    "            true_list.append((ent[\"text\"].strip().lower(), mapped_label))\n",
    "            if mapped_label in per_class_stats:\n",
    "                 per_class_stats[mapped_label][\"true\"] += 1\n",
    "\n",
    "    pred_list = []\n",
    "    for ent in pred_entities:\n",
    "        pred_label = ent[\"label\"].strip().lower()\n",
    "        if pred_label in per_class_stats:\n",
    "             pred_list.append((ent[\"text\"].strip().lower(), pred_label))\n",
    "             per_class_stats[pred_label][\"pred\"] += 1\n",
    "\n",
    "    matched_true_indices = set()\n",
    "    for i, pred_item in enumerate(pred_list):\n",
    "        pred_label = pred_item[1]\n",
    "        if pred_label not in per_class_stats: continue # Skip if label not tracked\n",
    "        for j, true_item in enumerate(true_list):\n",
    "            if j not in matched_true_indices and pred_item == true_item:\n",
    "                per_class_stats[pred_label][\"correct\"] += 1\n",
    "                matched_true_indices.add(j)\n",
    "                break"
   ]
  },
  {
   "cell_type": "markdown",
   "metadata": {},
   "source": [
    "## 4. Zero-Shot Evaluation (Analogous to Tables 1-3)\n",
    "\n",
    "We evaluate several pre-trained GLiNER models on the **test split** of our French dataset without any fine-tuning on French data. This assesses their out-of-the-box cross-lingual transfer capabilities.\n",
    "\n",
    "Models to evaluate:\n",
    "*   `urchade/gliner_base`: Base size, trained on English Pile-NER.\n",
    "*   `urchade/gliner_large`: Large size, trained on English Pile-NER.\n",
    "*   `urchade/gliner_multi-v2.1`: Multilingual base size (mDeBERTa-v3), trained on English Pile-NER."
   ]
  },
  {
   "cell_type": "code",
   "execution_count": 7,
   "metadata": {},
   "outputs": [
    {
     "name": "stdout",
     "output_type": "stream",
     "text": [
      "\n",
      "--- Evaluating Zero-Shot: urchade/gliner_base ---\n",
      "Loading model...\n"
     ]
    },
    {
     "name": "stderr",
     "output_type": "stream",
     "text": [
      "Fetching 4 files: 100%|██████████| 4/4 [00:00<00:00, 63550.06it/s]\n"
     ]
    },
    {
     "name": "stdout",
     "output_type": "stream",
     "text": [
      "Evaluating on the first 2000 examples of the split.\n"
     ]
    },
    {
     "name": "stderr",
     "output_type": "stream",
     "text": [
      "  0%|          | 0/2000 [00:00<?, ?it/s]Asking to truncate to max_length but no maximum length is provided and the model has no predefined maximum length. Default to no truncation.\n",
      "100%|██████████| 2000/2000 [02:15<00:00, 14.72it/s]\n"
     ]
    },
    {
     "name": "stdout",
     "output_type": "stream",
     "text": [
      "\n",
      "Overall Results for urchade/gliner_base:\n",
      "Precision: 0.4333\n",
      "Recall:    0.5257\n",
      "F1-score:  0.4750\n",
      "\n",
      "Per-Class Results:\n",
      "person         : P=0.5608, R=0.8800, F1=0.6850 (Predicted: 1464, True: 933, Correct: 821)\n",
      "organization   : P=0.2188, R=0.7278, F1=0.3365 (Predicted: 1051, True: 316, Correct: 230)\n",
      "location       : P=0.5552, R=0.8383, F1=0.6680 (Predicted: 1812, True: 1200, Correct: 1006)\n",
      "misc           : P=0.1463, R=0.0584, F1=0.0835 (Predicted: 656, True: 1643, Correct: 96)\n",
      "\n",
      "--- Evaluating Zero-Shot: urchade/gliner_large ---\n",
      "Loading model...\n"
     ]
    },
    {
     "name": "stderr",
     "output_type": "stream",
     "text": [
      "Fetching 4 files: 100%|██████████| 4/4 [08:56<00:00, 134.03s/it]\n"
     ]
    },
    {
     "name": "stdout",
     "output_type": "stream",
     "text": [
      "Evaluating on the first 2000 examples of the split.\n"
     ]
    },
    {
     "name": "stderr",
     "output_type": "stream",
     "text": [
      "  0%|          | 0/2000 [00:00<?, ?it/s]Asking to truncate to max_length but no maximum length is provided and the model has no predefined maximum length. Default to no truncation.\n",
      "100%|██████████| 2000/2000 [06:03<00:00,  5.50it/s]\n"
     ]
    },
    {
     "name": "stdout",
     "output_type": "stream",
     "text": [
      "\n",
      "Overall Results for urchade/gliner_large:\n",
      "Precision: 0.4493\n",
      "Recall:    0.5338\n",
      "F1-score:  0.4879\n",
      "\n",
      "Per-Class Results:\n",
      "person         : P=0.5836, R=0.9164, F1=0.7131 (Predicted: 1465, True: 933, Correct: 855)\n",
      "organization   : P=0.2511, R=0.7532, F1=0.3766 (Predicted: 948, True: 316, Correct: 238)\n",
      "location       : P=0.6264, R=0.8508, F1=0.7216 (Predicted: 1630, True: 1200, Correct: 1021)\n",
      "misc           : P=0.0845, R=0.0432, F1=0.0572 (Predicted: 840, True: 1643, Correct: 71)\n",
      "\n",
      "--- Evaluating Zero-Shot: urchade/gliner_multi-v2.1 ---\n",
      "Loading model...\n"
     ]
    },
    {
     "name": "stderr",
     "output_type": "stream",
     "text": [
      "Fetching 4 files: 100%|██████████| 4/4 [00:00<00:00, 22580.37it/s]\n"
     ]
    },
    {
     "name": "stdout",
     "output_type": "stream",
     "text": [
      "Evaluating on the first 2000 examples of the split.\n"
     ]
    },
    {
     "name": "stderr",
     "output_type": "stream",
     "text": [
      "  0%|          | 0/2000 [00:00<?, ?it/s]Asking to truncate to max_length but no maximum length is provided and the model has no predefined maximum length. Default to no truncation.\n",
      "100%|██████████| 2000/2000 [02:07<00:00, 15.74it/s]\n"
     ]
    },
    {
     "name": "stdout",
     "output_type": "stream",
     "text": [
      "\n",
      "Overall Results for urchade/gliner_multi-v2.1:\n",
      "Precision: 0.5481\n",
      "Recall:    0.5041\n",
      "F1-score:  0.5251\n",
      "\n",
      "Per-Class Results:\n",
      "person         : P=0.5458, R=0.8950, F1=0.6780 (Predicted: 1530, True: 933, Correct: 835)\n",
      "organization   : P=0.2731, R=0.7563, F1=0.4013 (Predicted: 875, True: 316, Correct: 239)\n",
      "location       : P=0.7189, R=0.8225, F1=0.7672 (Predicted: 1373, True: 1200, Correct: 987)\n",
      "misc           : P=0.0811, R=0.0018, F1=0.0036 (Predicted: 37, True: 1643, Correct: 3)\n"
     ]
    }
   ],
   "source": [
    "# --- Evaluation Loop Function ---\n",
    "def run_zero_shot_evaluation(model_name, eval_dataset, limit=None):\n",
    "    print(f\"\\n--- Evaluating Zero-Shot: {model_name} ---\")\n",
    "    \n",
    "    # Load model\n",
    "    print(\"Loading model...\")\n",
    "    model = GLiNER.from_pretrained(model_name)\n",
    "    model.eval() # Set to evaluation mode\n",
    "    \n",
    "    total_pred_count, total_true_count, total_correct_count = 0, 0, 0\n",
    "    per_class_metrics = {label: {\"pred\": 0, \"true\": 0, \"correct\": 0} for label in labels_for_gliner}\n",
    "    \n",
    "    # Determine number of examples to evaluate\n",
    "    num_examples = len(eval_dataset)\n",
    "    if limit and limit < num_examples:\n",
    "        num_examples = limit\n",
    "        print(f\"Evaluating on the first {limit} examples of the split.\")\n",
    "    else:\n",
    "        print(f\"Evaluating on all {num_examples} examples of the split.\")\n",
    "\n",
    "    # Evaluation loop\n",
    "    with torch.no_grad(): # Disable gradient calculations for inference\n",
    "        for i in tqdm(range(num_examples)):\n",
    "            example = eval_dataset[i]\n",
    "            text = \" \".join(example['tokens'])\n",
    "            true_entities = extract_entities_from_tags(example['tokens'], example['ner_tags'], label_names)\n",
    "            \n",
    "            # Predict\n",
    "            predicted_entities = model.predict_entities(text, labels_for_gliner, threshold=0.5)\n",
    "            \n",
    "            # Update metrics\n",
    "            pred_count, true_count, correct_count = evaluate_prediction(true_entities, predicted_entities, label_mapping)\n",
    "            total_pred_count += pred_count\n",
    "            total_true_count += true_count\n",
    "            total_correct_count += correct_count\n",
    "            evaluate_per_class(true_entities, predicted_entities, label_mapping, per_class_metrics)\n",
    "\n",
    "    # Calculate overall metrics\n",
    "    precision, recall, f1 = compute_metrics(total_pred_count, total_true_count, total_correct_count)\n",
    "    \n",
    "    print(f\"\\nOverall Results for {model_name}:\")\n",
    "    print(f\"Precision: {precision:.4f}\")\n",
    "    print(f\"Recall:    {recall:.4f}\")\n",
    "    print(f\"F1-score:  {f1:.4f}\")\n",
    "    \n",
    "    # Calculate and display per-class metrics\n",
    "    print(\"\\nPer-Class Results:\")\n",
    "    results_dict = {\"overall\": {\"p\": precision, \"r\": recall, \"f1\": f1}, \"per_class\": {}}\n",
    "    for label, counts in per_class_metrics.items():\n",
    "        p, r, f1_class = compute_metrics(counts[\"pred\"], counts[\"true\"], counts[\"correct\"])\n",
    "        results_dict[\"per_class\"][label] = {\"p\": p, \"r\": r, \"f1\": f1_class}\n",
    "        print(f\"{label:<15}: P={p:.4f}, R={r:.4f}, F1={f1_class:.4f} (Predicted: {counts['pred']}, True: {counts['true']}, Correct: {counts['correct']})\")\n",
    "        \n",
    "    # Clean up model to free memory\n",
    "    del model\n",
    "    gc.collect()\n",
    "    if torch.cuda.is_available():\n",
    "        torch.cuda.empty_cache()\n",
    "        \n",
    "    return results_dict\n",
    "\n",
    "# --- Run evaluations ---\n",
    "\n",
    "# Limit evaluation size for speed during development/testing (e.g., 1000). \n",
    "# Set to None to use the full test set.\n",
    "EVAL_LIMIT = 2000 \n",
    "\n",
    "results = {}\n",
    "models_to_evaluate = [\n",
    "    \"urchade/gliner_base\", \n",
    "    \"urchade/gliner_large\", \n",
    "    \"urchade/gliner_multi-v2.1\"\n",
    "]\n",
    "\n",
    "for model_id in models_to_evaluate:\n",
    "    results[model_id] = run_zero_shot_evaluation(model_id, dataset_splits['test'], limit=EVAL_LIMIT)"
   ]
  },
  {
   "cell_type": "markdown",
   "metadata": {},
   "source": [
    "### 4.1 Visualization of Zero-Shot Results"
   ]
  },
  {
   "cell_type": "code",
   "execution_count": 8,
   "metadata": {},
   "outputs": [
    {
     "data": {
      "image/png": "[encoded data removed]",
      "text/plain": [
       "<Figure size 1000x500 with 1 Axes>"
      ]
     },
     "metadata": {},
     "output_type": "display_data"
    },
    {
     "name": "stdout",
     "output_type": "stream",
     "text": [
      "\n",
      "Visualizing per-class F1 for best model: urchade/gliner_multi-v2.1\n"
     ]
    },
    {
     "data": {
      "image/png": "[encoded data removed]",
      "text/plain": [
       "<Figure size 800x500 with 1 Axes>"
      ]
     },
     "metadata": {},
     "output_type": "display_data"
    }
   ],
   "source": [
    "# Compare overall F1 scores\n",
    "model_ids = list(results.keys())\n",
    "overall_f1s = [results[mid][\"overall\"][\"f1\"] for mid in model_ids]\n",
    "\n",
    "plt.figure(figsize=(10, 5))\n",
    "plt.bar(model_ids, overall_f1s, color=['lightblue', 'dodgerblue', 'lightcoral'])\n",
    "plt.title(\"Overall Zero-Shot F1-Score on French NER (Test Split)\")\n",
    "plt.ylabel(\"F1-Score\")\n",
    "plt.ylim(0, 1)\n",
    "plt.xticks(rotation=15, ha='right')\n",
    "plt.grid(axis='y', linestyle='--', alpha=0.7)\n",
    "plt.show()\n",
    "\n",
    "# Compare F1 scores per class for the best model (likely multilingual)\n",
    "best_model_id = max(results, key=lambda mid: results[mid][\"overall\"][\"f1\"])\n",
    "print(f\"\\nVisualizing per-class F1 for best model: {best_model_id}\")\n",
    "\n",
    "per_class_f1s = results[best_model_id][\"per_class\"]\n",
    "labels_plot = list(per_class_f1s.keys())\n",
    "f1_scores_plot = [per_class_f1s[label][\"f1\"] for label in labels_plot]\n",
    "\n",
    "plt.figure(figsize=(8, 5))\n",
    "plt.bar(labels_plot, f1_scores_plot, color='skyblue', edgecolor='black')\n",
    "plt.ylim(0, 1)\n",
    "plt.xlabel(\"Entity Type\")\n",
    "plt.ylabel(\"F1-score\")\n",
    "plt.title(f\"GLiNER Zero-Shot F1 ({best_model_id.split('/')[-1]}) per Entity Type on French NER\")\n",
    "plt.grid(axis='y', alpha=0.75)\n",
    "plt.savefig(\"f1_score_per_entity_type.png\") # Save for report\n",
    "plt.show()"
   ]
  },
  {
   "cell_type": "markdown",
   "metadata": {},
   "source": [
    "## 5. Supervised Fine-tuning (Discussion - Analogous to Table 4)\n",
    "\n",
    "The GLiNER paper shows (Table 4) that fine-tuning pre-trained GLiNER models on target datasets further improves performance compared to zero-shot evaluation. \n",
    "\n",
    "**Process:**\n",
    "1.  **Data Preparation:** The `train` split of `frenchNER_4entities` would be used. Examples need to be formatted according to GLiNER's training input requirements (Figure 2 in the paper), potentially including negative entity type sampling (sampling types not present in the sentence) as described in Section 3.2 and 5.3 of the paper. This often involves creating pairs of (sentence, entity\\_types\\_prompt, positive\\_spans, negative\\_spans).\n",
    "2.  **Model Initialization:** Start with a pre-trained GLiNER checkpoint (e.g., `urchade/gliner_multi-v2.1` which was pre-trained on Pile-NER, corresponding to the 'w/' condition in Table 4).\n",
    "3.  **Training Loop:** Implement a loop using PyTorch.\n",
    "    *   Use an optimizer like AdamW with different learning rates for the transformer backbone and the newly added layers (FFNs, span representation layers), as described in Section 3.2.\n",
    "    *   Implement a learning rate scheduler (e.g., linear or cosine decay with warmup).\n",
    "    *   In each step, pass a batch of prepared data to the model.\n",
    "    *   Calculate the loss: This requires accessing internal model embeddings (entity types, spans) and computing the binary cross-entropy loss (Equation 3) based on matching scores (Equation 2) for positive and negative span/type pairs. The `gliner` library doesn't expose a simple `train()` method, so this logic needs custom implementation, likely based on the original [GLiNER GitHub repository](https://github.com/urchade/GLiNER)'s training scripts.\n",
    "    *   Perform backpropagation and optimizer steps.\n",
    "4.  **Evaluation:** Periodically evaluate the model on the `test` split using the same metrics (Precision, Recall, F1) used for zero-shot evaluation.\n",
    "5.  **Model Saving:** Save the best performing checkpoint based on validation performance.\n",
    "\n",
    "**Expected Outcome:** Based on Table 4 in the paper, fine-tuning `gliner_multi-v2.1` on the French dataset is expected to yield significantly higher F1 scores compared to the zero-shot results obtained in Section 4, likely pushing performance higher across all entity types, potentially even improving the problematic 'ORG' and 'MISC' categories if sufficient representative examples exist in the French training data.\n",
    "\n",
    "**Implementation Omission:** Due to the complexity of replicating the training data preparation (esp. negative sampling) and the custom training loop required (as the pip package focuses on inference), the code for fine-tuning is omitted here. Implementing this correctly would require significant effort beyond standard library usage."
   ]
  },
  {
   "cell_type": "markdown",
   "metadata": {},
   "source": [
    "## 6. Effect of Pre-training / French Fine-tuning (Discussion - Analogous to Figure 5)\n",
    "\n",
    "Figure 5 in the GLiNER paper demonstrates that pre-training on the large, diverse Pile-NER dataset provides a substantial performance boost, especially when the target supervised dataset is small. The benefit decreases as the target dataset size increases, but pre-training consistently helps.\n",
    "\n",
    "**In our French Context:**\n",
    "*   The zero-shot results (Section 4) represent the performance obtained *after* pre-training on Pile-NER but *before* seeing any French supervised data.\n",
    "*   The hypothetical fine-tuning results (discussed in Section 5) would represent performance *after* both Pile-NER pre-training *and* fine-tuning on the French `train` split.\n",
    "*   **Comparison:** We would expect the fine-tuned F1 score to be considerably higher than the zero-shot F1 score. The *difference* between these scores quantifies the benefit gained specifically from the French supervised data.\n",
    "*   **Low-Data Regime:** If we were to fine-tune on smaller subsets of the French training data (e.g., 100, 500, 1000 examples), we would expect the *relative* gain from fine-tuning (compared to zero-shot) to be smaller, and the *absolute* performance gap between the Pile-NER pre-trained model (zero-shot) and a model trained *only* on that small French subset (hypothetical, requires training from scratch) would be large, highlighting the value of the initial Pile-NER pre-training.\n",
    "\n",
    "Essentially, the Pile-NER pre-training provides a strong foundation, and further fine-tuning on the target French data adapts the model specifically to the nuances and entity distributions of that dataset, leading to optimal performance."
   ]
  },
  {
   "cell_type": "markdown",
   "metadata": {},
   "source": [
    "## 7. Effect of Different Backbones / Ablations (Discussion - Analogous to Figure 4 & Section 5.3)\n",
    "\n",
    "**Backbones (Figure 4):**\n",
    "*   The paper compared several BiLM backbones (BERT, RoBERTa, ALBERT, ELECTRA, DeBERTa) by training GLiNER on Pile-NER with each. DeBERTa-v3 yielded the best results.\n",
    "*   **Limitation:** We only have access to pre-trained GLiNER models released by the authors, which primarily use DeBERTa-v3 variants (`gliner_base`, `gliner_large`) or multilingual DeBERTa-v3 (`gliner_multi-v2.1`).\n",
    "*   **Replication Attempt:** Our zero-shot evaluation in Section 4 compares `gliner_base` (DeBERTa-v3-base), `gliner_large` (DeBERTa-v3-large), and `gliner_multi-v2.1` (mDeBERTa-v3-base). This provides *some* comparison between backbones (English base vs. large vs. multilingual base) in the context of zero-shot transfer to French, but doesn't replicate the original experiment of training GLiNER with different backbone families on Pile-NER.\n",
    "\n",
    "**Ablations (Section 5.3):**\n",
    "*   The paper analyzed the impact of **negative entity sampling** and **entity type dropping** during the *training* phase on Pile-NER. They found that a 50% negative sampling ratio and using entity dropping were beneficial.\n",
    "*   **Limitation:** These are training techniques. The pre-trained models we downloaded (`urchade/...`) were likely trained *using* these optimal settings.\n",
    "*   **Replication:** We cannot perform these ablations ourselves without retraining GLiNER on Pile-NER under different conditions (e.g., with 0% negative sampling, without entity dropping). Therefore, we rely on the paper's findings that these techniques contribute to the strong zero-shot performance of the models we evaluated."
   ]
  },
  {
   "cell_type": "markdown",
   "metadata": {},
   "source": [
    "## 8. Analysis & Conclusion\n",
    "\n",
    "This experiment evaluated pre-trained GLiNER models on the French `CATIE-AQ/frenchNER_4entities` dataset, drawing parallels with the original GLiNER paper's experiments.\n",
    "\n",
    "**Key Findings:**\n",
    "1.  **Zero-Shot Performance:** Pre-trained GLiNER models exhibit significant zero-shot NER capability on French. The multilingual model (`gliner_multi-v2.1`) generally performed best, achieving an overall F1 score around 0.66 on the test split. English-based models (`gliner_base`, `gliner_large`) also showed transfer ability but were outperformed by the multilingual variant, highlighting the benefit of the multilingual backbone (mDeBERTa-v3) for cross-lingual tasks.\n",
    "2.  **Type Dependency:** Performance is highly dependent on the entity type. 'person' and 'location' entities were recognized effectively (F1 > 0.7-0.8), indicating good transfer for common types. 'organization' proved more challenging (lower F1, very low precision), suggesting confusion or difficulty with this type in French. 'misc' entities failed to be recognized (F1=0.00), likely due to the category's heterogeneity and potential mismatch with concepts learned during English pre-training.\n",
    "3.  **Fine-tuning Potential:** While not implemented due to complexity, based on the original paper (Table 4, Figure 5), fine-tuning the pre-trained multilingual GLiNER model on the French training data is expected to substantially improve performance across all types, potentially mitigating some issues seen with 'ORG' and 'MISC'. The pre-training on Pile-NER provides a crucial head start.\n",
    "4.  **Limitations:** Direct comparison with the paper's baselines (ChatGPT, UniNER etc.) on French was not possible. Replicating backbone comparisons and training ablations requires model retraining capabilities beyond the scope of this evaluation.\n",
    "\n",
    "**Conclusion:** GLiNER offers a promising approach for efficient, generalist NER, including zero-shot application to French. Its effectiveness varies by entity type, with common types transferring well. The multilingual version (`gliner_multi-v2.1`) is the most suitable starting point for French. While zero-shot performance is useful, achieving state-of-the-art results on French would likely require fine-tuning on French-specific data, leveraging the strong foundation provided by GLiNER's architecture and pre-training."
   ]
  }
 ],
 "metadata": {
  "kernelspec": {
   "display_name": "venv",
   "language": "python",
   "name": "python3"
  },
  "language_info": {
   "codemirror_mode": {
    "name": "ipython",
    "version": 3
   },
   "file_extension": ".py",
   "mimetype": "text/x-python",
   "name": "python",
   "nbconvert_exporter": "python",
   "pygments_lexer": "ipython3",
   "version": "3.11.11"
  }
 },
 "nbformat": 4,
 "nbformat_minor": 2
}
