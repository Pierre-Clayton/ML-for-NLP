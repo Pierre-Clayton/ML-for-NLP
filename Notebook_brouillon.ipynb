{
 "cells": [
  {
   "cell_type": "markdown",
   "metadata": {},
   "source": [
    "# Description du dataset \"frenchNER_4entities\" :\n",
    "Ce corpus, proposé par CATIE-AQ sur Hugging Face, est destiné à la tâche de reconnaissance d'entités nommées (NER) en français. Il contient des textes annotés selon quatre catégories d'entités – typiquement, celles-ci peuvent être des entités telles que Personne, Organisation, Lieu et une quatrième catégorie (par exemple, Entité Générique ou autre, selon la documentation précise du dataset). Ce dataset est utile pour entraîner et évaluer des modèles de NER sur des données en français, en offrant un benchmark dédié pour le traitement de la langue et permettant d'explorer les spécificités linguistiques du français en matière d'extraction d'entités."
   ]
  },
  {
   "cell_type": "markdown",
   "metadata": {},
   "source": []
  }
 ],
 "metadata": {
  "language_info": {
   "name": "python"
  }
 },
 "nbformat": 4,
 "nbformat_minor": 2
}
